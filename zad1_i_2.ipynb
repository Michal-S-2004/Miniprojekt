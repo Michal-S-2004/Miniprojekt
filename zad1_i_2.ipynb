{
 "cells": [
  {
   "cell_type": "code",
   "execution_count": 3,
   "id": "135e013e",
   "metadata": {},
   "outputs": [],
   "source": [
    "import numpy as np\n",
    "import matplotlib.pyplot as plt\n",
    "import math"
   ]
  },
  {
   "cell_type": "markdown",
   "id": "43f127d6",
   "metadata": {},
   "source": [
    "# Zadanie 1"
   ]
  },
  {
   "cell_type": "code",
   "execution_count": 1,
   "id": "d0fa4b5a",
   "metadata": {},
   "outputs": [
    {
     "name": "stdout",
     "output_type": "stream",
     "text": [
      "Minimalny całkowity koszt: 156 tys. PLN\n",
      "Miesiąc 1: produkcja = 4, zapas na koniec = 1\n",
      "Miesiąc 2: produkcja = 5, zapas na koniec = 3\n",
      "Miesiąc 3: produkcja = 0, zapas na koniec = 0\n",
      "Miesiąc 4: produkcja = 4, zapas na koniec = 1\n",
      "Miesiąc 5: produkcja = 5, zapas na koniec = 3\n",
      "Miesiąc 6: produkcja = 0, zapas na koniec = 0\n"
     ]
    }
   ],
   "source": [
    "# Parametry problemu\n",
    "demand_per_month = 3\n",
    "months = 6\n",
    "max_prod = 5\n",
    "max_inv = 4\n",
    "\n",
    "# Koszty: koszt uruchomienia oraz tabela kosztów zmiennych dla produkcji 0..5 szt.\n",
    "fixed_cost = 13  # tys. PLN za uruchomienie produkcji (jeśli x > 0)\n",
    "prod_cost = {0: 0, 1: 16, 2: 18, 3: 19, 4: 20, 5: 24}  # zmienny koszt produkcji x szt. (tys. PLN)\n",
    "\n",
    "# Inicjalizacja tablic DP (słowniki dla każdego miesiąca)\n",
    "dp = [dict() for _ in range(months + 2)]      # dp[t][inv] = minimalny koszt od miesiąca t przy zapasie inv na początku\n",
    "decision = [dict() for _ in range(months + 2)]  # decyzja (produkcja x) dla stanu (t, inv) w optymalnym planie\n",
    "\n",
    "# Warunek końcowy dla t = 7 (po ostatnim miesiącu)\n",
    "for inv in range(max_inv + 1):\n",
    "    dp[months+1][inv] = 0 if inv == 0 else float('inf')\n",
    "\n",
    "# Obliczenia dynamiczne wstecz (od miesięcy 6 do 1)\n",
    "for t in range(months, 0, -1):\n",
    "    for inv in range(max_inv + 1):\n",
    "        best_cost = float('inf')\n",
    "        best_x = 0\n",
    "        # Przeszukanie decyzji x = 0..5\n",
    "        for x in range(max_prod + 1):\n",
    "            inv_end = inv + x - demand_per_month  # zapas na koniec miesiąca t\n",
    "            # Sprawdzenie ograniczeń: zaspokojenie popytu i pojemność magazynu\n",
    "            if inv_end < 0 or inv_end > max_inv:\n",
    "                continue\n",
    "            # Koszt produkcji w miesiącu t (uwzględnia koszt stały jeśli x > 0)\n",
    "            cost_prod = (fixed_cost + prod_cost[x]) if x > 0 else 0\n",
    "            # Koszt magazynowania na koniec miesiąca t (inv_end jednostek * 2 tys. PLN)\n",
    "            cost_hold = inv_end * 2\n",
    "            # Całkowity koszt (bieżący + przyszły)\n",
    "            total_cost = cost_prod + cost_hold + dp[t+1][inv_end]\n",
    "            if total_cost < best_cost:\n",
    "                best_cost = total_cost\n",
    "                best_x = x\n",
    "        # Zapisz najlepszy koszt i decyzję dla stanu (t, inv)\n",
    "        dp[t][inv] = best_cost\n",
    "        decision[t][inv] = best_x\n",
    "\n",
    "# Rekonstrukcja optymalnego planu od t=1, początkowy zapas 0\n",
    "inv = 0\n",
    "plan = []\n",
    "for t in range(1, months + 1):\n",
    "    x = decision[t][inv]\n",
    "    inv_end = inv + x - demand_per_month\n",
    "    plan.append((x, inv_end))\n",
    "    inv = inv_end\n",
    "\n",
    "# Wynik: minimalny koszt i szczegóły produkcji w każdym miesiącu\n",
    "print(f\"Minimalny całkowity koszt: {dp[1][0]} tys. PLN\")\n",
    "for t, (x, inv_end) in enumerate(plan, start=1):\n",
    "    print(f\"Miesiąc {t}: produkcja = {x}, zapas na koniec = {inv_end}\")"
   ]
  },
  {
   "cell_type": "markdown",
   "id": "9160746c",
   "metadata": {},
   "source": [
    "# Zadanie 2\n"
   ]
  },
  {
   "cell_type": "code",
   "execution_count": 4,
   "id": "6102943c",
   "metadata": {},
   "outputs": [
    {
     "name": "stdout",
     "output_type": "stream",
     "text": [
      "Maksymalne prawdopodobieństwo braku awarii: 0.0900\n",
      "Optymalny przydział środków:\n",
      "U1: 3 tys. PLN\n",
      "U2: 2 tys. PLN\n",
      "U3: 2 tys. PLN\n",
      "U4: 3 tys. PLN\n"
     ]
    }
   ],
   "source": [
    "# Prawdopodobieństwa, że urządzenie nie ulegnie awarii w zależności od kwoty przeznaczonej na remont\n",
    "probabilities = {\n",
    "    'U1': [0.2, 0.2, 0.4, 0.6, 0.7],\n",
    "    'U2': [0.1, 0.3, 0.5, 0.7, 0.8],\n",
    "    'U3': [0.2, 0.4, 0.6, 0.8, 0.9],\n",
    "    'U4': [0.1, 0.2, 0.3, 0.5, 0.7]\n",
    "}\n",
    "\n",
    "# Wartości dostępne do wydania na remont w tys. PLN\n",
    "amounts = [0, 1, 2, 3, 4]  # Kwoty przeznaczone na remonty (0-4 tys. PLN)\n",
    "\n",
    "# Budżet całkowity\n",
    "total_budget = 10  # 10 tysięcy PLN\n",
    "\n",
    "# Funkcja do obliczenia maksymalnego prawdopodobieństwa braku awarii oraz przydziału środków\n",
    "def max_reliability_with_allocation(total_budget, probabilities):\n",
    "    num_devices = len(probabilities)  # Liczba urządzeń\n",
    "    \n",
    "    # Tablica DP: dp[i][j] oznacza maksymalne prawdopodobieństwo dla i urządzeń i j tysięcy PLN\n",
    "    dp = np.zeros((num_devices + 1, total_budget + 1))\n",
    "    \n",
    "    # Tablica przechowująca optymalny przydział środków\n",
    "    allocation = np.zeros((num_devices + 1, total_budget + 1), dtype=int)\n",
    "    \n",
    "    # Inicjalizacja - dla 0 urządzeń prawdopodobieństwo awarii to 1 (nie ma urządzeń do naprawy)\n",
    "    dp[0, 0] = 1  # Nie ma urządzeń, więc prawdopodobieństwo braku awarii to 1\n",
    "\n",
    "    # Programowanie dynamiczne\n",
    "    for device in range(1, num_devices + 1):  # Przechodzimy po urządzeniach\n",
    "        for budget in range(total_budget + 1):  # Przechodzimy po dostępnych kwotach\n",
    "            for spent in amounts:\n",
    "                if budget - spent >= 0:\n",
    "                    prob_device = probabilities[f'U{device}'][spent]\n",
    "                    new_prob = dp[device - 1, budget - spent] * prob_device\n",
    "                    if new_prob > dp[device, budget]:\n",
    "                        dp[device, budget] = new_prob\n",
    "                        allocation[device, budget] = spent\n",
    "\n",
    "    # Maksymalne prawdopodobieństwo braku awarii całego obiektu\n",
    "    max_probability = dp[num_devices, total_budget]\n",
    "\n",
    "    # Odtwarzanie optymalnego przydziału środków\n",
    "    budget_left = total_budget\n",
    "    optimal_allocation = []\n",
    "    for device in range(num_devices, 0, -1):\n",
    "        spent = allocation[device, budget_left]\n",
    "        optimal_allocation.append((f'U{device}', spent))\n",
    "        budget_left -= spent\n",
    "    \n",
    "    # Zwracamy maksymalne prawdopodobieństwo oraz przydział środków na urządzenia\n",
    "    optimal_allocation.reverse()\n",
    "    return max_probability, optimal_allocation\n",
    "\n",
    "# Obliczamy maksymalne prawdopodobieństwo i przydział środków\n",
    "max_probability, optimal_allocation = max_reliability_with_allocation(total_budget, probabilities)\n",
    "\n",
    "# Wyświetlamy wyniki\n",
    "print(f'Maksymalne prawdopodobieństwo braku awarii: {max_probability:.4f}')\n",
    "print(\"Optymalny przydział środków:\")\n",
    "for device, spent in optimal_allocation:\n",
    "    print(f'{device}: {spent} tys. PLN')"
   ]
  },
  {
   "cell_type": "code",
   "execution_count": null,
   "id": "34134cd5",
   "metadata": {},
   "outputs": [],
   "source": []
  }
 ],
 "metadata": {
  "kernelspec": {
   "display_name": "Python 3 (ipykernel)",
   "language": "python",
   "name": "python3"
  },
  "language_info": {
   "codemirror_mode": {
    "name": "ipython",
    "version": 3
   },
   "file_extension": ".py",
   "mimetype": "text/x-python",
   "name": "python",
   "nbconvert_exporter": "python",
   "pygments_lexer": "ipython3",
   "version": "3.9.13"
  }
 },
 "nbformat": 4,
 "nbformat_minor": 5
}
