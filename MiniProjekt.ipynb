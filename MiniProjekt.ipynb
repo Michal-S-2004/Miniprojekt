{
 "cells": [
  {
   "cell_type": "code",
   "execution_count": 1,
   "id": "f07a8807",
   "metadata": {},
   "outputs": [],
   "source": [
    "import numpy as np\n",
    "import matplotlib.pyplot as plt\n",
    "import math\n",
    "import random"
   ]
  },
  {
   "cell_type": "markdown",
   "id": "413a32da",
   "metadata": {},
   "source": [
    "# TEST ZMIANY"
   ]
  },
  {
   "cell_type": "markdown",
   "id": "b86b1b4b",
   "metadata": {},
   "source": [
    "# Zadanie 2"
   ]
  },
  {
   "cell_type": "code",
   "execution_count": 10,
   "id": "7a68bb45",
   "metadata": {},
   "outputs": [
    {
     "name": "stdout",
     "output_type": "stream",
     "text": [
      "Maksymalne prawdopodobieństwo braku awarii: 0.0900\n",
      "Optymalny przydział środków:\n",
      "U1: 3 tys. PLN\n",
      "U2: 2 tys. PLN\n",
      "U3: 2 tys. PLN\n",
      "U4: 3 tys. PLN\n"
     ]
    }
   ],
   "source": [
    "# Prawdopodobieństwa, że urządzenie nie ulegnie awarii w zależności od kwoty przeznaczonej na remont\n",
    "probabilities = {\n",
    "    'U1': [0.2, 0.2, 0.4, 0.6, 0.7],\n",
    "    'U2': [0.1, 0.3, 0.5, 0.7, 0.8],\n",
    "    'U3': [0.2, 0.4, 0.6, 0.8, 0.9],\n",
    "    'U4': [0.1, 0.2, 0.3, 0.5, 0.7]\n",
    "}\n",
    "\n",
    "# Wartości dostępne do wydania na remont w tys. PLN\n",
    "amounts = [0, 1, 2, 3, 4]  # Kwoty przeznaczone na remonty (0-4 tys. PLN)\n",
    "\n",
    "# Budżet całkowity\n",
    "total_budget = 10  # 10 tysięcy PLN\n",
    "\n",
    "# Funkcja do obliczenia maksymalnego prawdopodobieństwa braku awarii oraz przydziału środków\n",
    "def max_reliability_with_allocation(total_budget, probabilities):\n",
    "    num_devices = len(probabilities)  # Liczba urządzeń\n",
    "    \n",
    "    # Tablica DP: dp[i][j] oznacza maksymalne prawdopodobieństwo dla i urządzeń i j tysięcy PLN\n",
    "    dp = np.zeros((num_devices + 1, total_budget + 1))\n",
    "    \n",
    "    # Tablica przechowująca optymalny przydział środków\n",
    "    allocation = np.zeros((num_devices + 1, total_budget + 1), dtype=int)\n",
    "    \n",
    "    # Inicjalizacja - dla 0 urządzeń prawdopodobieństwo awarii to 1 (nie ma urządzeń do naprawy)\n",
    "    dp[0, 0] = 1  # Nie ma urządzeń, więc prawdopodobieństwo braku awarii to 1\n",
    "\n",
    "    # Programowanie dynamiczne\n",
    "    for device in range(1, num_devices + 1):  # Przechodzimy po urządzeniach\n",
    "        for budget in range(total_budget + 1):  # Przechodzimy po dostępnych kwotach\n",
    "            for spent in amounts:\n",
    "                if budget - spent >= 0:\n",
    "                    prob_device = probabilities[f'U{device}'][spent]\n",
    "                    new_prob = dp[device - 1, budget - spent] * prob_device\n",
    "                    if new_prob > dp[device, budget]:\n",
    "                        dp[device, budget] = new_prob\n",
    "                        allocation[device, budget] = spent\n",
    "\n",
    "    # Maksymalne prawdopodobieństwo braku awarii całego obiektu\n",
    "    max_probability = dp[num_devices, total_budget]\n",
    "\n",
    "    # Odtwarzanie optymalnego przydziału środków\n",
    "    budget_left = total_budget\n",
    "    optimal_allocation = []\n",
    "    for device in range(num_devices, 0, -1):\n",
    "        spent = allocation[device, budget_left]\n",
    "        optimal_allocation.append((f'U{device}', spent))\n",
    "        budget_left -= spent\n",
    "    \n",
    "    # Zwracamy maksymalne prawdopodobieństwo oraz przydział środków na urządzenia\n",
    "    optimal_allocation.reverse()\n",
    "    return max_probability, optimal_allocation\n",
    "\n",
    "# Obliczamy maksymalne prawdopodobieństwo i przydział środków\n",
    "max_probability, optimal_allocation = max_reliability_with_allocation(total_budget, probabilities)\n",
    "\n",
    "# Wyświetlamy wyniki\n",
    "print(f'Maksymalne prawdopodobieństwo braku awarii: {max_probability:.4f}')\n",
    "print(\"Optymalny przydział środków:\")\n",
    "for device, spent in optimal_allocation:\n",
    "    print(f'{device}: {spent} tys. PLN')"
   ]
  },
  {
   "cell_type": "markdown",
   "id": "1d74f072",
   "metadata": {},
   "source": [
    "# Zadanie 3"
   ]
  },
  {
   "cell_type": "code",
   "execution_count": 17,
   "id": "524283fe",
   "metadata": {},
   "outputs": [
    {
     "name": "stdout",
     "output_type": "stream",
     "text": [
      "➤ Optymalne pierwsze zamówienie: x0 = 3 szt.\n",
      "➤ Optymalna oczekiwana wypłata:  V0(s0=0) = 613.80\n",
      "\n",
      "➤ Strategia na kolejne miesiące (order‑up‑to):\n",
      "  • miesiące 0–29: zamów do 3 szt. (x_t = max(0, 3 − s_t))\n",
      "  • miesiąc 30: zamów do 1 szt. (x_t = max(0, 1 − s_t))\n",
      "[3, 3, 3, 3, 3, 3, 3, 3, 3, 3, 3, 3, 3, 3, 3, 3, 3, 3, 3, 3, 3, 3, 3, 3, 3, 3, 3, 3, 3, 1]\n"
     ]
    }
   ],
   "source": [
    "# -------- Optymalny magazyn – kod z pełnym, czytelnym outputem --------\n",
    "c, m, z = 20, 5, 35   # koszt jednostki, koszt magazynowania, cena sprzedaży\n",
    "T = 30                # liczba okresów decyzyjnych (miesięcy)\n",
    "CAP = 20              # pojemność magazynu\n",
    "p = 1/5               # P(D_t = d) dla d=0..4\n",
    "\n",
    "# ----------------------------------- DP ----------------------------------\n",
    "V  = [[0]*(CAP+1) for _ in range(T+1)]   # wartości V_t(s)\n",
    "pi = [[0]*(CAP+1) for _ in range(T)]     # optymalne decyzje x_t(s)\n",
    "\n",
    "# terminalny koszt\n",
    "for s in range(CAP+1):\n",
    "    V[T][s] = -(m+z)*s                   # f_T(s) = -(m+z)s\n",
    "\n",
    "# wstecz od t = 29 … 0\n",
    "for t in range(T-1, -1, -1):\n",
    "    for s in range(CAP+1):\n",
    "        best_val, best_x = -1e12, 0\n",
    "        for x in range(CAP - s + 1):     # legalne zamówienia\n",
    "            reward = (z - c)*x + (z*s if t == 0 else -m*s)\n",
    "            exp = 0.0\n",
    "            for d in range(5):           # d = 0..4\n",
    "                s_next = max(0, s + x - d)\n",
    "                exp += V[t+1][s_next] * p\n",
    "            val = reward + exp\n",
    "            if val > best_val:\n",
    "                best_val, best_x = val, x\n",
    "        V[t][s], pi[t][s] = best_val, best_x\n",
    "\n",
    "# ----------------------- podsumowanie wyników ----------------------------\n",
    "s0 = 0\n",
    "optimal_payout = V[0][s0]\n",
    "x0 = pi[0][s0]\n",
    "\n",
    "# Jak wygląda taktyka? – sprawdzamy do jakiego poziomu „S” polityka dopełnia\n",
    "base_stock = []\n",
    "for t in range(T):\n",
    "    for S in range(CAP+1):\n",
    "        if all(pi[t][s] == max(0, S - s) for s in range(CAP+1)):\n",
    "            base_stock.append(S)\n",
    "            break\n",
    "\n",
    "# wykrywamy odcinki z tą samą wartością S\n",
    "segments = []\n",
    "current_S = base_stock[0]\n",
    "start_t = 0\n",
    "for t, S in enumerate(base_stock + [None], 1):\n",
    "    if S != current_S:\n",
    "        segments.append((start_t, t-1, current_S))\n",
    "        current_S, start_t = S, t\n",
    "\n",
    "print(f\"➤ Optymalne pierwsze zamówienie: x0 = {x0} szt.\")\n",
    "print(f\"➤ Optymalna oczekiwana wypłata:  V0(s0=0) = {optimal_payout:.2f}\\n\")\n",
    "\n",
    "print(\"➤ Strategia na kolejne miesiące (order‑up‑to):\")\n",
    "for seg in segments:\n",
    "    a, b, S = seg\n",
    "    if S == 0:\n",
    "        rule = \"nie kupuj nic\"\n",
    "    else:\n",
    "        rule = f\"zamów do {S} szt. (x_t = max(0, {S} − s_t))\"\n",
    "    if a == b:\n",
    "        label = f\"miesiąc {a}\"\n",
    "    else:\n",
    "        label = f\"miesiące {a}–{b}\"\n",
    "    print(f\"  • {label}: {rule}\")\n",
    "print(base_stock)\n",
    "\n"
   ]
  },
  {
   "cell_type": "markdown",
   "id": "333857db",
   "metadata": {},
   "source": [
    "### Skąd to wynika? \n",
    "\n",
    "1. **Programowanie dynamiczne (DP)**  \n",
    "   W każdym miesiącu $t$ algorytm wybiera zamówienie $x$, które maksymalizuje  \n",
    "\n",
    "   $$\n",
    "     Q_t(s,x)=f_t(s,x)+\\mathbb{E}\\bigl[V_{t+1}(s_{t+1})\\bigr].\n",
    "   $$\n",
    "\n",
    "2. **Ostatni miesiąc $t=29$**  \n",
    "   Po zakończeniu horyzontu niesprzedana sztuka kosztuje  \n",
    "\n",
    "   $$\n",
    "     -(m+z)=-(5+35)=-40.\n",
    "   $$\n",
    "\n",
    "   | dodatkowa sztuka | $\\Pr(\\text{sprzeda się})$ | zysk $+15$ | kara $-40$ | wartość oczekiwana |\n",
    "   |:----------------:|:-------------------------:|:----------:|:----------:|:------------------:|\n",
    "   | 1-sza | $P(D_t\\ge1)=0.8$ | $+15$ | $-40$ | $0.8\\cdot15\\;-\\;0.2\\cdot40 = \\mathbf{+4}$ |\n",
    "   | 2-ga  | $P(D_t\\ge2)=0.6$ | $+15$ | $-40$ | $0.6\\cdot15\\;-\\;0.4\\cdot40 = -1$ |\n",
    "   | 3-cia | $P(D_t\\ge3)=0.4$ | $+15$ | $-40$ | $0.4\\cdot15\\;-\\;0.6\\cdot40 = -9$ |\n",
    "\n",
    "   Pierwsza sztuka ma dodatnią wartość oczekiwaną $(+4)$; druga i kolejne już ujemną.  \n",
    "   $\\Longrightarrow$ w ostatnim okresie **uzupełniamy zapas co najwyżej do 1 sztuki**.\n"
   ]
  }
 ],
 "metadata": {
  "kernelspec": {
   "display_name": "Python 3",
   "language": "python",
   "name": "python3"
  },
  "language_info": {
   "codemirror_mode": {
    "name": "ipython",
    "version": 3
   },
   "file_extension": ".py",
   "mimetype": "text/x-python",
   "name": "python",
   "nbconvert_exporter": "python",
   "pygments_lexer": "ipython3",
   "version": "3.13.1"
  }
 },
 "nbformat": 4,
 "nbformat_minor": 5
}
