{
 "cells": [
  {
   "cell_type": "code",
   "execution_count": 3,
   "id": "f07a8807",
   "metadata": {},
   "outputs": [],
   "source": [
    "import numpy as np\n",
    "import math\n",
    "import pandas as pd\n"
   ]
  },
  {
   "cell_type": "markdown",
   "id": "413a32da",
   "metadata": {},
   "source": [
    "# Zadanie 1"
   ]
  },
  {
   "cell_type": "code",
   "execution_count": 6,
   "id": "54a64c89",
   "metadata": {},
   "outputs": [
    {
     "name": "stdout",
     "output_type": "stream",
     "text": [
      "   Month  Inventory start  Produce (units)  Demand (units)  Inventory end  \\\n",
      "0      1                0                4               3              1   \n",
      "1      2                1                5               3              3   \n",
      "2      3                3                0               3              0   \n",
      "3      4                0                4               3              1   \n",
      "4      5                1                5               3              3   \n",
      "5      6                3                0               3              0   \n",
      "\n",
      "   Production cost [kPLN]  Holding cost [kPLN]  Monthly cost [kPLN]  \n",
      "0                      20                    2                   22  \n",
      "1                      24                    6                   30  \n",
      "2                       0                    0                    0  \n",
      "3                      20                    2                   22  \n",
      "4                      24                    6                   30  \n",
      "5                       0                    0                    0  \n",
      "Minimal total cost: 104 thousand PLN\n"
     ]
    }
   ],
   "source": [
    "n_months = 6\n",
    "demand = [3] * n_months                  \n",
    "capacity_prod = 5                          \n",
    "capacity_inv = 4                         \n",
    "holding_cost = 2                           \n",
    "production_cost = [0, 16, 18, 19, 20, 24]\n",
    "\n",
    "dp = [[math.inf] * (capacity_inv + 1) for _ in range(n_months + 1)]\n",
    "decision = [[None] * (capacity_inv + 1) for _ in range(n_months)]\n",
    "\n",
    "dp[n_months][0] = 0\n",
    "\n",
    "# Backward iteration\n",
    "for t in range(n_months - 1, -1, -1):\n",
    "    for s in range(capacity_inv + 1):\n",
    "        best_cost, best_y = math.inf, None\n",
    "        for y in range(capacity_prod + 1):                  \n",
    "            if s + y < demand[t]:                          \n",
    "                continue\n",
    "            inv_end = s + y - demand[t]                     \n",
    "            if inv_end > capacity_inv:\n",
    "                continue\n",
    "            next_cost = dp[t + 1][inv_end]\n",
    "            if next_cost == math.inf:\n",
    "                continue\n",
    "            cost = production_cost[y] + holding_cost * inv_end + next_cost\n",
    "            if cost < best_cost:\n",
    "                best_cost, best_y = cost, y\n",
    "        dp[t][s] = best_cost\n",
    "        decision[t][s] = best_y\n",
    "\n",
    "inventory = 0\n",
    "records = []\n",
    "total_cost = 0\n",
    "\n",
    "for t in range(n_months):\n",
    "    y = decision[t][inventory]\n",
    "    inv_end = inventory + y - demand[t]\n",
    "    prod_cost = production_cost[y]\n",
    "    hold_cost = holding_cost * inv_end\n",
    "    month_cost = prod_cost + hold_cost\n",
    "    records.append({\n",
    "        \"Month\": t + 1,\n",
    "        \"Inventory start\": inventory,\n",
    "        \"Produce (units)\": y,\n",
    "        \"Demand (units)\": demand[t],\n",
    "        \"Inventory end\": inv_end,\n",
    "        \"Production cost [kPLN]\": prod_cost,\n",
    "        \"Holding cost [kPLN]\": hold_cost,\n",
    "        \"Monthly cost [kPLN]\": month_cost\n",
    "    })\n",
    "    total_cost += month_cost\n",
    "    inventory = inv_end\n",
    "\n",
    "df = pd.DataFrame(records)\n",
    "print(df)\n",
    "\n",
    "print(f\"Minimal total cost: {total_cost} thousand PLN\")\n"
   ]
  }
 ],
 "metadata": {
  "kernelspec": {
   "display_name": "Python 3",
   "language": "python",
   "name": "python3"
  },
  "language_info": {
   "codemirror_mode": {
    "name": "ipython",
    "version": 3
   },
   "file_extension": ".py",
   "mimetype": "text/x-python",
   "name": "python",
   "nbconvert_exporter": "python",
   "pygments_lexer": "ipython3",
   "version": "3.13.1"
  }
 },
 "nbformat": 4,
 "nbformat_minor": 5
}
