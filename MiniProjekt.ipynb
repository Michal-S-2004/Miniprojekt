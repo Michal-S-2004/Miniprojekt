{
 "cells": [
  {
   "cell_type": "code",
   "execution_count": 1,
   "id": "f07a8807",
   "metadata": {},
   "outputs": [],
   "source": [
    "import numpy as np\n",
    "import matplotlib.pyplot as plt\n",
    "import math\n",
    "import random"
   ]
  },
  {
   "cell_type": "markdown",
   "id": "413a32da",
   "metadata": {},
   "source": [
    "# TEST ZMIANY"
   ]
  },
  {
   "cell_type": "markdown",
   "id": "b86b1b4b",
   "metadata": {},
   "source": [
    "# Zadanie 2"
   ]
  },
  {
   "cell_type": "code",
   "execution_count": 10,
   "id": "7a68bb45",
   "metadata": {},
   "outputs": [
    {
     "name": "stdout",
     "output_type": "stream",
     "text": [
      "Maksymalne prawdopodobieństwo braku awarii: 0.0900\n",
      "Optymalny przydział środków:\n",
      "U1: 3 tys. PLN\n",
      "U2: 2 tys. PLN\n",
      "U3: 2 tys. PLN\n",
      "U4: 3 tys. PLN\n"
     ]
    }
   ],
   "source": [
    "# Prawdopodobieństwa, że urządzenie nie ulegnie awarii w zależności od kwoty przeznaczonej na remont\n",
    "probabilities = {\n",
    "    'U1': [0.2, 0.2, 0.4, 0.6, 0.7],\n",
    "    'U2': [0.1, 0.3, 0.5, 0.7, 0.8],\n",
    "    'U3': [0.2, 0.4, 0.6, 0.8, 0.9],\n",
    "    'U4': [0.1, 0.2, 0.3, 0.5, 0.7]\n",
    "}\n",
    "\n",
    "# Wartości dostępne do wydania na remont w tys. PLN\n",
    "amounts = [0, 1, 2, 3, 4]  # Kwoty przeznaczone na remonty (0-4 tys. PLN)\n",
    "\n",
    "# Budżet całkowity\n",
    "total_budget = 10  # 10 tysięcy PLN\n",
    "\n",
    "# Funkcja do obliczenia maksymalnego prawdopodobieństwa braku awarii oraz przydziału środków\n",
    "def max_reliability_with_allocation(total_budget, probabilities):\n",
    "    num_devices = len(probabilities)  # Liczba urządzeń\n",
    "    \n",
    "    # Tablica DP: dp[i][j] oznacza maksymalne prawdopodobieństwo dla i urządzeń i j tysięcy PLN\n",
    "    dp = np.zeros((num_devices + 1, total_budget + 1))\n",
    "    \n",
    "    # Tablica przechowująca optymalny przydział środków\n",
    "    allocation = np.zeros((num_devices + 1, total_budget + 1), dtype=int)\n",
    "    \n",
    "    # Inicjalizacja - dla 0 urządzeń prawdopodobieństwo awarii to 1 (nie ma urządzeń do naprawy)\n",
    "    dp[0, 0] = 1  # Nie ma urządzeń, więc prawdopodobieństwo braku awarii to 1\n",
    "\n",
    "    # Programowanie dynamiczne\n",
    "    for device in range(1, num_devices + 1):  # Przechodzimy po urządzeniach\n",
    "        for budget in range(total_budget + 1):  # Przechodzimy po dostępnych kwotach\n",
    "            for spent in amounts:\n",
    "                if budget - spent >= 0:\n",
    "                    prob_device = probabilities[f'U{device}'][spent]\n",
    "                    new_prob = dp[device - 1, budget - spent] * prob_device\n",
    "                    if new_prob > dp[device, budget]:\n",
    "                        dp[device, budget] = new_prob\n",
    "                        allocation[device, budget] = spent\n",
    "\n",
    "    # Maksymalne prawdopodobieństwo braku awarii całego obiektu\n",
    "    max_probability = dp[num_devices, total_budget]\n",
    "\n",
    "    # Odtwarzanie optymalnego przydziału środków\n",
    "    budget_left = total_budget\n",
    "    optimal_allocation = []\n",
    "    for device in range(num_devices, 0, -1):\n",
    "        spent = allocation[device, budget_left]\n",
    "        optimal_allocation.append((f'U{device}', spent))\n",
    "        budget_left -= spent\n",
    "    \n",
    "    # Zwracamy maksymalne prawdopodobieństwo oraz przydział środków na urządzenia\n",
    "    optimal_allocation.reverse()\n",
    "    return max_probability, optimal_allocation\n",
    "\n",
    "# Obliczamy maksymalne prawdopodobieństwo i przydział środków\n",
    "max_probability, optimal_allocation = max_reliability_with_allocation(total_budget, probabilities)\n",
    "\n",
    "# Wyświetlamy wyniki\n",
    "print(f'Maksymalne prawdopodobieństwo braku awarii: {max_probability:.4f}')\n",
    "print(\"Optymalny przydział środków:\")\n",
    "for device, spent in optimal_allocation:\n",
    "    print(f'{device}: {spent} tys. PLN')"
   ]
  },
  {
   "cell_type": "markdown",
   "id": "1d74f072",
   "metadata": {},
   "source": [
    "# Zadanie 3"
   ]
  },
  {
   "cell_type": "code",
   "execution_count": 3,
   "id": "d8b10c23",
   "metadata": {},
   "outputs": [
    {
     "name": "stdout",
     "output_type": "stream",
     "text": [
      "Requirement already satisfied: pandas in c:\\users\\oliwi\\appdata\\local\\programs\\python\\python313\\lib\\site-packages (2.2.3)\n",
      "Requirement already satisfied: numpy>=1.26.0 in c:\\users\\oliwi\\appdata\\local\\programs\\python\\python313\\lib\\site-packages (from pandas) (2.2.5)\n",
      "Requirement already satisfied: python-dateutil>=2.8.2 in c:\\users\\oliwi\\appdata\\roaming\\python\\python313\\site-packages (from pandas) (2.9.0.post0)\n",
      "Requirement already satisfied: pytz>=2020.1 in c:\\users\\oliwi\\appdata\\local\\programs\\python\\python313\\lib\\site-packages (from pandas) (2025.2)\n",
      "Requirement already satisfied: tzdata>=2022.7 in c:\\users\\oliwi\\appdata\\local\\programs\\python\\python313\\lib\\site-packages (from pandas) (2025.2)\n",
      "Requirement already satisfied: six>=1.5 in c:\\users\\oliwi\\appdata\\roaming\\python\\python313\\site-packages (from python-dateutil>=2.8.2->pandas) (1.17.0)\n",
      "Note: you may need to restart the kernel to use updated packages.\n"
     ]
    },
    {
     "name": "stderr",
     "output_type": "stream",
     "text": [
      "\n",
      "[notice] A new release of pip is available: 24.3.1 -> 25.1.1\n",
      "[notice] To update, run: python.exe -m pip install --upgrade pip\n"
     ]
    }
   ],
   "source": [
    "%pip install pandas"
   ]
  },
  {
   "cell_type": "code",
   "execution_count": 4,
   "id": "524283fe",
   "metadata": {},
   "outputs": [
    {
     "ename": "ModuleNotFoundError",
     "evalue": "No module named 'ace_tools'",
     "output_type": "error",
     "traceback": [
      "\u001b[31m---------------------------------------------------------------------------\u001b[39m",
      "\u001b[31mModuleNotFoundError\u001b[39m                       Traceback (most recent call last)",
      "\u001b[36mCell\u001b[39m\u001b[36m \u001b[39m\u001b[32mIn[4]\u001b[39m\u001b[32m, line 71\u001b[39m\n\u001b[32m     64\u001b[39m value_df = pd.DataFrame(\n\u001b[32m     65\u001b[39m     value_matrix[:-\u001b[32m1\u001b[39m],  \u001b[38;5;66;03m# Zignorujmy ostatni wiersz (etap T)\u001b[39;00m\n\u001b[32m     66\u001b[39m     index=[\u001b[33mf\u001b[39m\u001b[33m\"\u001b[39m\u001b[33mt=\u001b[39m\u001b[38;5;132;01m{\u001b[39;00mt\u001b[38;5;132;01m}\u001b[39;00m\u001b[33m\"\u001b[39m \u001b[38;5;28;01mfor\u001b[39;00m t \u001b[38;5;129;01min\u001b[39;00m \u001b[38;5;28mrange\u001b[39m(T)],\n\u001b[32m     67\u001b[39m     columns=[\u001b[33mf\u001b[39m\u001b[33m\"\u001b[39m\u001b[33ms=\u001b[39m\u001b[38;5;132;01m{\u001b[39;00ms\u001b[38;5;132;01m}\u001b[39;00m\u001b[33m\"\u001b[39m \u001b[38;5;28;01mfor\u001b[39;00m s \u001b[38;5;129;01min\u001b[39;00m states]\n\u001b[32m     68\u001b[39m )\n\u001b[32m     70\u001b[39m \u001b[38;5;66;03m# Wyświetlamy optymalną politykę zamówień\u001b[39;00m\n\u001b[32m---> \u001b[39m\u001b[32m71\u001b[39m \u001b[38;5;28;01mimport\u001b[39;00m\u001b[38;5;250m \u001b[39m\u001b[34;01mace_tools\u001b[39;00m\u001b[38;5;250m \u001b[39m\u001b[38;5;28;01mas\u001b[39;00m\u001b[38;5;250m \u001b[39m\u001b[34;01mtools\u001b[39;00m; tools.display_dataframe_to_user(\u001b[33m\"\u001b[39m\u001b[33mOptimal policy (order quantity x_t for each state s_t and stage t)\u001b[39m\u001b[33m\"\u001b[39m, policy_df)\n\u001b[32m     73\u001b[39m \u001b[38;5;66;03m# Wyświetlamy funkcję wartości\u001b[39;00m\n\u001b[32m     74\u001b[39m tools.display_dataframe_to_user(\u001b[33m\"\u001b[39m\u001b[33mOptimal value function V_t(s)\u001b[39m\u001b[33m\"\u001b[39m, value_df)\n",
      "\u001b[31mModuleNotFoundError\u001b[39m: No module named 'ace_tools'"
     ]
    }
   ],
   "source": [
    "import numpy as np\n",
    "import pandas as pd\n",
    "\n",
    "# Parametry\n",
    "c = 20          # koszt jednostki zakupu\n",
    "m = 5           # koszt magazynowania jednostki\n",
    "z = 35          # cena detaliczna\n",
    "capacity = 20   # pojemność magazynu\n",
    "T = 30          # liczba etapów\n",
    "\n",
    "states = np.arange(capacity + 1)  # stany magazynowe 0 ... 20\n",
    "demands = np.arange(5)            # popyt 0 ... 4\n",
    "p = 1.0 / len(demands)            # prawdopodobieństwo popytu\n",
    "\n",
    "# Wartość końcowa: koszt magazynowania resztek\n",
    "V_next = - (m + z) * states.astype(float)\n",
    "\n",
    "# Macierze do przechowywania polityki i wartości\n",
    "policy_matrix = np.zeros((T, capacity + 1), dtype=int)\n",
    "value_matrix = np.zeros((T + 1, capacity + 1))\n",
    "\n",
    "# Ustawiamy wartości dla ostatniego etapu\n",
    "value_matrix[T, :] = V_next\n",
    "\n",
    "# Algorytm dynamicznego programowania - wsteczna indukcja\n",
    "for t in range(T - 1, -1, -1):\n",
    "    V_curr = np.empty_like(V_next)\n",
    "    policy_t = np.empty_like(states, dtype=int)\n",
    "\n",
    "    for s in states:\n",
    "        best_value = -np.inf\n",
    "        best_x = 0\n",
    "\n",
    "        # Rozważamy wszystkie możliwe ilości zamówienia\n",
    "        for x in range(capacity - s + 1):  # x ∈ {0, 1, ..., capacity - s}\n",
    "            inv = s + x\n",
    "            expected_value = 0.0\n",
    "\n",
    "            # Popyt jest losowy, więc obliczamy wartość oczekiwaną\n",
    "            for d in demands:\n",
    "                sales = min(inv, d)\n",
    "                leftover = inv - sales\n",
    "                immediate_profit = z * sales - c * x - m * leftover\n",
    "                expected_value += p * (immediate_profit + V_next[leftover])\n",
    "\n",
    "            if expected_value > best_value:\n",
    "                best_value = expected_value\n",
    "                best_x = x\n",
    "\n",
    "        V_curr[s] = best_value\n",
    "        policy_t[s] = best_x\n",
    "\n",
    "    policy_matrix[t, :] = policy_t\n",
    "    value_matrix[t, :] = V_curr\n",
    "    V_next = V_curr  # Przechodzimy do poprzedniego etapu\n",
    "\n",
    "# Konwertujemy do DataFrame, aby ułatwić wyświetlanie\n",
    "policy_df = pd.DataFrame(\n",
    "    policy_matrix,\n",
    "    index=[f\"t={t}\" for t in range(T)],\n",
    "    columns=[f\"s={s}\" for s in states]\n",
    ")\n",
    "\n",
    "value_df = pd.DataFrame(\n",
    "    value_matrix[:-1],  # Zignorujmy ostatni wiersz (etap T)\n",
    "    index=[f\"t={t}\" for t in range(T)],\n",
    "    columns=[f\"s={s}\" for s in states]\n",
    ")\n",
    "\n",
    "# Wyświetlamy optymalną politykę zamówień\n",
    "import ace_tools as tools; tools.display_dataframe_to_user(\"Optimal policy (order quantity x_t for each state s_t and stage t)\", policy_df)\n",
    "\n",
    "# Wyświetlamy funkcję wartości\n",
    "tools.display_dataframe_to_user(\"Optimal value function V_t(s)\", value_df)\n"
   ]
  }
 ],
 "metadata": {
  "kernelspec": {
   "display_name": "Python 3",
   "language": "python",
   "name": "python3"
  },
  "language_info": {
   "codemirror_mode": {
    "name": "ipython",
    "version": 3
   },
   "file_extension": ".py",
   "mimetype": "text/x-python",
   "name": "python",
   "nbconvert_exporter": "python",
   "pygments_lexer": "ipython3",
   "version": "3.13.1"
  }
 },
 "nbformat": 4,
 "nbformat_minor": 5
}
