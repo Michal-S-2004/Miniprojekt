{
 "cells": [
  {
   "cell_type": "code",
   "execution_count": 2,
   "id": "f07a8807",
   "metadata": {},
   "outputs": [],
   "source": [
    "import numpy as np\n",
    "import matplotlib.pyplot as plt\n",
    "import math"
   ]
  },
  {
   "cell_type": "markdown",
   "id": "413a32da",
   "metadata": {},
   "source": [
    "# TEST ZMIANY"
   ]
  },
  {
   "cell_type": "markdown",
   "id": "b86b1b4b",
   "metadata": {},
   "source": [
    "# Zadanie 2"
   ]
  },
  {
   "cell_type": "code",
   "execution_count": 6,
   "id": "7a68bb45",
   "metadata": {},
   "outputs": [
    {
     "name": "stdout",
     "output_type": "stream",
     "text": [
      "Maksymalne prawdopodobieństwo braku awarii: 0.0900\n",
      "Optymalny przydział środków:\n",
      "U1: 3 tys. PLN\n",
      "U2: 2 tys. PLN\n",
      "U3: 2 tys. PLN\n",
      "U4: 3 tys. PLN\n"
     ]
    }
   ],
   "source": [
    "# Prawdopodobieństwa, że urządzenie nie ulegnie awarii w zależności od kwoty przeznaczonej na remont\n",
    "probabilities = {\n",
    "    'U1': [0.2, 0.2, 0.4, 0.6, 0.7],\n",
    "    'U2': [0.1, 0.3, 0.5, 0.7, 0.8],\n",
    "    'U3': [0.2, 0.4, 0.6, 0.8, 0.9],\n",
    "    'U4': [0.1, 0.2, 0.3, 0.5, 0.7]\n",
    "}\n",
    "\n",
    "# Wartości dostępne do wydania na remont w tys. PLN\n",
    "amounts = [0, 1, 2, 3, 4]  # Kwoty przeznaczone na remonty (0-4 tys. PLN)\n",
    "\n",
    "# Budżet całkowity\n",
    "total_budget = 10  # 10 tysięcy PLN\n",
    "\n",
    "# Funkcja do obliczenia maksymalnego prawdopodobieństwa braku awarii oraz przydziału środków\n",
    "def max_reliability_with_allocation(total_budget, probabilities):\n",
    "    num_devices = len(probabilities)  # Liczba urządzeń\n",
    "    \n",
    "    # Tablica DP: dp[i][j] oznacza maksymalne prawdopodobieństwo dla i urządzeń i j tysięcy PLN\n",
    "    dp = np.zeros((num_devices + 1, total_budget + 1))\n",
    "    \n",
    "    # Tablica przechowująca optymalny przydział środków\n",
    "    allocation = np.zeros((num_devices + 1, total_budget + 1), dtype=int)\n",
    "    \n",
    "    # Inicjalizacja - dla 0 urządzeń prawdopodobieństwo awarii to 1 (nie ma urządzeń do naprawy)\n",
    "    dp[0, 0] = 1  # Nie ma urządzeń, więc prawdopodobieństwo braku awarii to 1\n",
    "\n",
    "    # Programowanie dynamiczne\n",
    "    for device in range(1, num_devices + 1):  # Przechodzimy po urządzeniach\n",
    "        for budget in range(total_budget + 1):  # Przechodzimy po dostępnych kwotach\n",
    "            for spent in amounts:\n",
    "                if budget - spent >= 0:\n",
    "                    prob_device = probabilities[f'U{device}'][spent]\n",
    "                    new_prob = dp[device - 1, budget - spent] * prob_device\n",
    "                    if new_prob > dp[device, budget]:\n",
    "                        dp[device, budget] = new_prob\n",
    "                        allocation[device, budget] = spent\n",
    "\n",
    "    # Maksymalne prawdopodobieństwo braku awarii całego obiektu\n",
    "    max_probability = dp[num_devices, total_budget]\n",
    "\n",
    "    # Odtwarzanie optymalnego przydziału środków\n",
    "    budget_left = total_budget\n",
    "    optimal_allocation = []\n",
    "    for device in range(num_devices, 0, -1):\n",
    "        spent = allocation[device, budget_left]\n",
    "        optimal_allocation.append((f'U{device}', spent))\n",
    "        budget_left -= spent\n",
    "    \n",
    "    # Zwracamy maksymalne prawdopodobieństwo oraz przydział środków na urządzenia\n",
    "    optimal_allocation.reverse()\n",
    "    return max_probability, optimal_allocation\n",
    "\n",
    "# Obliczamy maksymalne prawdopodobieństwo i przydział środków\n",
    "max_probability, optimal_allocation = max_reliability_with_allocation(total_budget, probabilities)\n",
    "\n",
    "# Wyświetlamy wyniki\n",
    "print(f'Maksymalne prawdopodobieństwo braku awarii: {max_probability:.4f}')\n",
    "print(\"Optymalny przydział środków:\")\n",
    "for device, spent in optimal_allocation:\n",
    "    print(f'{device}: {spent} tys. PLN')"
   ]
  }
 ],
 "metadata": {
  "kernelspec": {
   "display_name": "Python 3",
   "language": "python",
   "name": "python3"
  },
  "language_info": {
   "codemirror_mode": {
    "name": "ipython",
    "version": 3
   },
   "file_extension": ".py",
   "mimetype": "text/x-python",
   "name": "python",
   "nbconvert_exporter": "python",
   "pygments_lexer": "ipython3",
   "version": "3.13.1"
  }
 },
 "nbformat": 4,
 "nbformat_minor": 5
}
